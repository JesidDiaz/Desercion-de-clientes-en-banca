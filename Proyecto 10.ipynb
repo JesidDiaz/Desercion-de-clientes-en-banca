{
 "cells": [
  {
   "cell_type": "code",
   "execution_count": 4,
   "metadata": {},
   "outputs": [],
   "source": [
    "\n",
    "import os\n",
    "import warnings\n",
    "warnings.filterwarnings(\"ignore\")\n",
    "\n",
    "import numpy as np\n",
    "import pandas as pd\n",
    "\n",
    "from sklearn.model_selection import train_test_split\n",
    "from sklearn.preprocessing import OneHotEncoder, StandardScaler\n",
    "from sklearn.impute import SimpleImputer\n",
    "from sklearn.compose import ColumnTransformer\n",
    "from sklearn.pipeline import Pipeline\n",
    "from sklearn.metrics import f1_score, roc_auc_score, classification_report, confusion_matrix, roc_curve\n",
    "from sklearn.utils import resample\n",
    "from sklearn.linear_model import LogisticRegression\n",
    "from sklearn.ensemble import RandomForestClassifier\n",
    "\n",
    "import matplotlib.pyplot as plt\n",
    "\n",
    "RANDOM_STATE = 42\n",
    "np.random.seed(RANDOM_STATE)"
   ]
  },
  {
   "cell_type": "markdown",
   "metadata": {},
   "source": [
    "# 1. Carga y Preparación de Datos"
   ]
  },
  {
   "cell_type": "code",
   "execution_count": 5,
   "metadata": {},
   "outputs": [
    {
     "name": "stdout",
     "output_type": "stream",
     "text": [
      "Ruta usada: /datasets/Churn.csv\n",
      "Forma inicial (filas, columnas): (10000, 14)\n"
     ]
    },
    {
     "data": {
      "text/html": [
       "<div>\n",
       "<style scoped>\n",
       "    .dataframe tbody tr th:only-of-type {\n",
       "        vertical-align: middle;\n",
       "    }\n",
       "\n",
       "    .dataframe tbody tr th {\n",
       "        vertical-align: top;\n",
       "    }\n",
       "\n",
       "    .dataframe thead th {\n",
       "        text-align: right;\n",
       "    }\n",
       "</style>\n",
       "<table border=\"1\" class=\"dataframe\">\n",
       "  <thead>\n",
       "    <tr style=\"text-align: right;\">\n",
       "      <th></th>\n",
       "      <th>RowNumber</th>\n",
       "      <th>CustomerId</th>\n",
       "      <th>Surname</th>\n",
       "      <th>CreditScore</th>\n",
       "      <th>Geography</th>\n",
       "      <th>Gender</th>\n",
       "      <th>Age</th>\n",
       "      <th>Tenure</th>\n",
       "      <th>Balance</th>\n",
       "      <th>NumOfProducts</th>\n",
       "      <th>HasCrCard</th>\n",
       "      <th>IsActiveMember</th>\n",
       "      <th>EstimatedSalary</th>\n",
       "      <th>Exited</th>\n",
       "    </tr>\n",
       "  </thead>\n",
       "  <tbody>\n",
       "    <tr>\n",
       "      <th>0</th>\n",
       "      <td>1</td>\n",
       "      <td>15634602</td>\n",
       "      <td>Hargrave</td>\n",
       "      <td>619</td>\n",
       "      <td>France</td>\n",
       "      <td>Female</td>\n",
       "      <td>42</td>\n",
       "      <td>2.0</td>\n",
       "      <td>0.00</td>\n",
       "      <td>1</td>\n",
       "      <td>1</td>\n",
       "      <td>1</td>\n",
       "      <td>101348.88</td>\n",
       "      <td>1</td>\n",
       "    </tr>\n",
       "    <tr>\n",
       "      <th>1</th>\n",
       "      <td>2</td>\n",
       "      <td>15647311</td>\n",
       "      <td>Hill</td>\n",
       "      <td>608</td>\n",
       "      <td>Spain</td>\n",
       "      <td>Female</td>\n",
       "      <td>41</td>\n",
       "      <td>1.0</td>\n",
       "      <td>83807.86</td>\n",
       "      <td>1</td>\n",
       "      <td>0</td>\n",
       "      <td>1</td>\n",
       "      <td>112542.58</td>\n",
       "      <td>0</td>\n",
       "    </tr>\n",
       "    <tr>\n",
       "      <th>2</th>\n",
       "      <td>3</td>\n",
       "      <td>15619304</td>\n",
       "      <td>Onio</td>\n",
       "      <td>502</td>\n",
       "      <td>France</td>\n",
       "      <td>Female</td>\n",
       "      <td>42</td>\n",
       "      <td>8.0</td>\n",
       "      <td>159660.80</td>\n",
       "      <td>3</td>\n",
       "      <td>1</td>\n",
       "      <td>0</td>\n",
       "      <td>113931.57</td>\n",
       "      <td>1</td>\n",
       "    </tr>\n",
       "  </tbody>\n",
       "</table>\n",
       "</div>"
      ],
      "text/plain": [
       "   RowNumber  CustomerId   Surname  CreditScore Geography  Gender  Age  \\\n",
       "0          1    15634602  Hargrave          619    France  Female   42   \n",
       "1          2    15647311      Hill          608     Spain  Female   41   \n",
       "2          3    15619304      Onio          502    France  Female   42   \n",
       "\n",
       "   Tenure    Balance  NumOfProducts  HasCrCard  IsActiveMember  \\\n",
       "0     2.0       0.00              1          1               1   \n",
       "1     1.0   83807.86              1          0               1   \n",
       "2     8.0  159660.80              3          1               0   \n",
       "\n",
       "   EstimatedSalary  Exited  \n",
       "0        101348.88       1  \n",
       "1        112542.58       0  \n",
       "2        113931.57       1  "
      ]
     },
     "metadata": {},
     "output_type": "display_data"
    },
    {
     "name": "stdout",
     "output_type": "stream",
     "text": [
      "\n",
      "Columnas tras drop: ['CreditScore', 'Geography', 'Gender', 'Age', 'Tenure', 'Balance', 'NumOfProducts', 'HasCrCard', 'IsActiveMember', 'EstimatedSalary', 'Exited']\n",
      "\n",
      "Categóricas: ['Geography', 'Gender']\n",
      "Numéricas  : ['CreditScore', 'Age', 'Tenure', 'Balance', 'NumOfProducts', 'HasCrCard', 'IsActiveMember', 'EstimatedSalary']\n"
     ]
    }
   ],
   "source": [
    "\n",
    "# 1) CARGA E INSPECCIÓN + LIMPIEZA BÁSICA\n",
    "\n",
    "# 1.1) Buscar el archivo en rutas típicas\n",
    "possible_paths = [\"/datasets/Churn.csv\"]\n",
    "data_path = next((p for p in possible_paths if os.path.exists(p)), None)\n",
    "\n",
    "if data_path is None:\n",
    "    raise FileNotFoundError(\n",
    "        \"No se encontró 'Churn.csv' ni en /mnt/data ni en /datasets. \"\n",
    "        \"Sube el archivo o ajusta la ruta.\"\n",
    "    )\n",
    "\n",
    "# 1.2) Leer\n",
    "df = pd.read_csv(data_path)\n",
    "\n",
    "# 1.3) Inspecciones rápidas\n",
    "print(\"Ruta usada:\", data_path)\n",
    "print(\"Forma inicial (filas, columnas):\", df.shape)\n",
    "display(df.head(3))\n",
    "\n",
    "# 1.4) Quitar identificadores de alto riesgo de sobreajuste\n",
    "cols_to_drop = [c for c in [\"RowNumber\", \"CustomerId\", \"Surname\"] if c in df.columns]\n",
    "df = df.drop(columns=cols_to_drop)\n",
    "print(\"\\nColumnas tras drop:\", df.columns.tolist())\n",
    "\n",
    "# 1.5) Separar features y target\n",
    "TARGET_COL = \"Exited\"\n",
    "if TARGET_COL not in df.columns:\n",
    "    raise ValueError(\"No está la columna objetivo 'Exited' en el dataset.\")\n",
    "X = df.drop(columns=[TARGET_COL])\n",
    "y = df[TARGET_COL].astype(int)\n",
    "\n",
    "# 1.6) Tipos de variables\n",
    "cat_cols = X.select_dtypes(include=[\"object\"]).columns.tolist()\n",
    "num_cols = [c for c in X.columns if c not in cat_cols]\n",
    "\n",
    "print(\"\\nCategóricas:\", cat_cols)\n",
    "print(\"Numéricas  :\", num_cols)\n"
   ]
  },
  {
   "cell_type": "markdown",
   "metadata": {},
   "source": [
    "### Acciones realizadas:\n",
    "- Localización y lect el CSV.\n",
    "- Inspección del tamaño y primeras filas para validar lectura.\n",
    "- Eliminación de identificadores (RowNumber, CustomerId, Surname) debido a que no aportan información comportamental generalizable y pueden inducir sobreajuste (p. ej., Surname es de alta cardinalidad y el modelo podría “memorizar” apellidos).\n",
    "- Separación de variables explicativas X y el objetivo y (Exited).\n",
    "- Detección de tipos: columnas categóricas (object) y numéricas (resto). Esto se usa para preprocesar distinto cada tipo (One-Hot vs. escalado)."
   ]
  },
  {
   "cell_type": "markdown",
   "metadata": {},
   "source": [
    "# 2. División train/valid/test y revisión de desbalance"
   ]
  },
  {
   "cell_type": "code",
   "execution_count": 6,
   "metadata": {},
   "outputs": [
    {
     "name": "stdout",
     "output_type": "stream",
     "text": [
      "Tamaños -> train: (6000, 10) valid: (2000, 10) test: (2000, 10)\n",
      "\n",
      "Balance de clases en TRAIN:\n"
     ]
    },
    {
     "data": {
      "text/html": [
       "<div>\n",
       "<style scoped>\n",
       "    .dataframe tbody tr th:only-of-type {\n",
       "        vertical-align: middle;\n",
       "    }\n",
       "\n",
       "    .dataframe tbody tr th {\n",
       "        vertical-align: top;\n",
       "    }\n",
       "\n",
       "    .dataframe thead th {\n",
       "        text-align: right;\n",
       "    }\n",
       "</style>\n",
       "<table border=\"1\" class=\"dataframe\">\n",
       "  <thead>\n",
       "    <tr style=\"text-align: right;\">\n",
       "      <th></th>\n",
       "      <th>count</th>\n",
       "      <th>rate</th>\n",
       "    </tr>\n",
       "  </thead>\n",
       "  <tbody>\n",
       "    <tr>\n",
       "      <th>0</th>\n",
       "      <td>4777</td>\n",
       "      <td>0.7962</td>\n",
       "    </tr>\n",
       "    <tr>\n",
       "      <th>1</th>\n",
       "      <td>1223</td>\n",
       "      <td>0.2038</td>\n",
       "    </tr>\n",
       "  </tbody>\n",
       "</table>\n",
       "</div>"
      ],
      "text/plain": [
       "   count    rate\n",
       "0   4777  0.7962\n",
       "1   1223  0.2038"
      ]
     },
     "metadata": {},
     "output_type": "display_data"
    },
    {
     "name": "stdout",
     "output_type": "stream",
     "text": [
      "\n",
      "Balance de clases en VALID:\n"
     ]
    },
    {
     "data": {
      "text/html": [
       "<div>\n",
       "<style scoped>\n",
       "    .dataframe tbody tr th:only-of-type {\n",
       "        vertical-align: middle;\n",
       "    }\n",
       "\n",
       "    .dataframe tbody tr th {\n",
       "        vertical-align: top;\n",
       "    }\n",
       "\n",
       "    .dataframe thead th {\n",
       "        text-align: right;\n",
       "    }\n",
       "</style>\n",
       "<table border=\"1\" class=\"dataframe\">\n",
       "  <thead>\n",
       "    <tr style=\"text-align: right;\">\n",
       "      <th></th>\n",
       "      <th>count</th>\n",
       "      <th>rate</th>\n",
       "    </tr>\n",
       "  </thead>\n",
       "  <tbody>\n",
       "    <tr>\n",
       "      <th>0</th>\n",
       "      <td>1593</td>\n",
       "      <td>0.7965</td>\n",
       "    </tr>\n",
       "    <tr>\n",
       "      <th>1</th>\n",
       "      <td>407</td>\n",
       "      <td>0.2035</td>\n",
       "    </tr>\n",
       "  </tbody>\n",
       "</table>\n",
       "</div>"
      ],
      "text/plain": [
       "   count    rate\n",
       "0   1593  0.7965\n",
       "1    407  0.2035"
      ]
     },
     "metadata": {},
     "output_type": "display_data"
    },
    {
     "name": "stdout",
     "output_type": "stream",
     "text": [
      "\n",
      "Balance de clases en TEST:\n"
     ]
    },
    {
     "data": {
      "text/html": [
       "<div>\n",
       "<style scoped>\n",
       "    .dataframe tbody tr th:only-of-type {\n",
       "        vertical-align: middle;\n",
       "    }\n",
       "\n",
       "    .dataframe tbody tr th {\n",
       "        vertical-align: top;\n",
       "    }\n",
       "\n",
       "    .dataframe thead th {\n",
       "        text-align: right;\n",
       "    }\n",
       "</style>\n",
       "<table border=\"1\" class=\"dataframe\">\n",
       "  <thead>\n",
       "    <tr style=\"text-align: right;\">\n",
       "      <th></th>\n",
       "      <th>count</th>\n",
       "      <th>rate</th>\n",
       "    </tr>\n",
       "  </thead>\n",
       "  <tbody>\n",
       "    <tr>\n",
       "      <th>0</th>\n",
       "      <td>1593</td>\n",
       "      <td>0.7965</td>\n",
       "    </tr>\n",
       "    <tr>\n",
       "      <th>1</th>\n",
       "      <td>407</td>\n",
       "      <td>0.2035</td>\n",
       "    </tr>\n",
       "  </tbody>\n",
       "</table>\n",
       "</div>"
      ],
      "text/plain": [
       "   count    rate\n",
       "0   1593  0.7965\n",
       "1    407  0.2035"
      ]
     },
     "metadata": {},
     "output_type": "display_data"
    }
   ],
   "source": [
    "X_temp, X_test, y_temp, y_test = train_test_split(\n",
    "    X, y, test_size=0.20, random_state=RANDOM_STATE, stratify=y\n",
    ")\n",
    "X_train, X_valid, y_train, y_valid = train_test_split(\n",
    "    X_temp, y_temp, test_size=0.25, random_state=RANDOM_STATE, stratify=y_temp\n",
    ")\n",
    "print(\"Tamaños -> train:\", X_train.shape, \"valid:\", X_valid.shape, \"test:\", X_test.shape)\n",
    "\n",
    "def describe_balance(name, y_series):\n",
    "    counts = y_series.value_counts().sort_index()\n",
    "    rates = (counts / len(y_series)).round(4)\n",
    "    print(f\"\\nBalance de clases en {name}:\")\n",
    "    display(pd.DataFrame({\"count\": counts, \"rate\": rates}))\n",
    "\n",
    "describe_balance(\"TRAIN\", y_train)\n",
    "describe_balance(\"VALID\", y_valid)\n",
    "describe_balance(\"TEST\", y_test)"
   ]
  },
  {
   "cell_type": "markdown",
   "metadata": {},
   "source": [
    "### Acciones realizadas:\n",
    "- Divide 60/20/20 en estratificado (mantiene proporción de clases).\n",
    "- Muestra conteos y proporciones por clase en cada split (para evidenciar el desbalance).\n",
    "\n",
    "**Se identificó que:**\n",
    "- Las clases están desbalanceadas en todos los conjuntos (~80% clase 0 vs ~20% clase 1).\n",
    "- La proporción se mantiene consistente entre train/valid/test (alrededor de 80/20 en cada caso)."
   ]
  },
  {
   "cell_type": "markdown",
   "metadata": {},
   "source": [
    "### 3. Procesamiento por variables"
   ]
  },
  {
   "cell_type": "code",
   "execution_count": 7,
   "metadata": {},
   "outputs": [],
   "source": [
    "\n",
    "cat_pipeline = Pipeline(steps=[\n",
    "    (\"imputer\", SimpleImputer(strategy=\"most_frequent\")),\n",
    "    (\"ohe\", OneHotEncoder(handle_unknown=\"ignore\"))\n",
    "])\n",
    "\n",
    "num_pipeline = Pipeline(steps=[\n",
    "    (\"imputer\", SimpleImputer(strategy=\"median\")),\n",
    "    (\"scaler\", StandardScaler())\n",
    "])\n",
    "\n",
    "preprocessor = ColumnTransformer(\n",
    "    transformers=[\n",
    "        (\"cat\", cat_pipeline, cat_cols),\n",
    "        (\"num\", num_pipeline, num_cols),\n",
    "    ],\n",
    "    remainder=\"drop\"\n",
    ")\n"
   ]
  },
  {
   "cell_type": "markdown",
   "metadata": {},
   "source": [
    "### Acciones realizadas:\n",
    "- Para categóricas: imputa faltantes con la moda y luego One-Hot (manejo de categorías no vistas con handle_unknown='ignore').\n",
    "\n",
    "- Para numéricas: imputa faltantes con mediana y luego escalado estándar (ayuda a modelos lineales; es neutro para bosques).\n",
    "\n",
    "- Construye un ColumnTransformer que se aplicarán dentro de los Pipelines."
   ]
  },
  {
   "cell_type": "code",
   "execution_count": 10,
   "metadata": {},
   "outputs": [],
   "source": [
    "\n",
    "def upsample_train(X_df, y_ser, ratio=1.0, random_state=RANDOM_STATE):\n",
    "    data = X_df.copy()\n",
    "    data[TARGET_COL] = y_ser.values\n",
    "    maj = data[data[TARGET_COL] == 0]\n",
    "    mino = data[data[TARGET_COL] == 1]\n",
    "    target_minority = int(len(maj) * ratio)\n",
    "    mino_up = resample(mino, replace=True, n_samples=target_minority, random_state=random_state)\n",
    "    balanced = pd.concat([maj, mino_up], axis=0).sample(frac=1, random_state=random_state)\n",
    "    return balanced.drop(columns=[TARGET_COL]), balanced[TARGET_COL].astype(int)\n",
    "\n",
    "def downsample_train(X_df, y_ser, ratio=1.0, random_state=RANDOM_STATE):\n",
    "    data = X_df.copy()\n",
    "    data[TARGET_COL] = y_ser.values\n",
    "    maj = data[data[TARGET_COL] == 0]\n",
    "    mino = data[data[TARGET_COL] == 1]\n",
    "    target_majority = int(len(mino) * ratio)\n",
    "    maj_down = resample(maj, replace=False, n_samples=min(target_majority, len(maj)), random_state=random_state)\n",
    "    balanced = pd.concat([maj_down, mino], axis=0).sample(frac=1, random_state=random_state)\n",
    "    return balanced.drop(columns=[TARGET_COL]), balanced[TARGET_COL].astype(int)\n",
    "\n",
    "def find_best_threshold(y_true, y_proba, grid=np.linspace(0.05, 0.95, 91)):\n",
    "    best_t, best_f1 = 0.5, -1\n",
    "    for t in grid:\n",
    "        preds = (y_proba >= t).astype(int)\n",
    "        f1 = f1_score(y_true, preds)\n",
    "        if f1 > best_f1:\n",
    "            best_t, best_f1 = t, f1\n",
    "    return best_t, best_f1\n",
    "\n",
    "def build_pipeline(model):\n",
    "    return Pipeline(steps=[(\"prep\", preprocessor), (\"model\", model)])\n",
    "\n",
    "def evaluate_on_valid(pipeline, X_tr, y_tr, X_va, y_va, verbose=True):\n",
    "    pipeline.fit(X_tr, y_tr)\n",
    "    y_proba = pipeline.predict_proba(X_va)[:, 1]\n",
    "    thr, f1v = find_best_threshold(y_va, y_proba)\n",
    "    y_pred = (y_proba >= thr).astype(int)\n",
    "    aucv = roc_auc_score(y_va, y_proba)\n",
    "    if verbose:\n",
    "        print(f\"Umbral*={thr:.3f} | F1(valid)={f1v:.4f} | AUC(valid)={aucv:.4f}\")\n",
    "    return {\"pipeline\": pipeline, \"threshold\": thr, \"f1_valid\": f1v, \"auc_valid\": aucv}\n"
   ]
  },
  {
   "cell_type": "markdown",
   "metadata": {},
   "source": [
    "### Acciones realizadas:\n",
    "- upsample_train / downsample_train: corrigen desbalance solo en TRAIN.\n",
    "- find_best_threshold: ajusta el umbral de probabilidad que maximiza F1 en VALID (mejora F1 sobre el 0.5 fijo).\n",
    "- build_pipeline: arma un Pipeline (preprocesa + modelo).\n",
    "- evaluate_on_valid: entrena, calcula probas, busca umbral óptimo, devuelve métricas."
   ]
  },
  {
   "cell_type": "markdown",
   "metadata": {},
   "source": [
    "# 4. Modelos Base"
   ]
  },
  {
   "cell_type": "code",
   "execution_count": 11,
   "metadata": {},
   "outputs": [
    {
     "name": "stdout",
     "output_type": "stream",
     "text": [
      "Umbral*=0.200 | F1(valid)=0.4828 | AUC(valid)=0.7561\n",
      "Umbral*=0.360 | F1(valid)=0.6369 | AUC(valid)=0.8520\n"
     ]
    }
   ],
   "source": [
    "base_results = []\n",
    "\n",
    "# Logistic Regression (baseline)\n",
    "lr_base = LogisticRegression(C=1.0, solver=\"lbfgs\", max_iter=2000, random_state=RANDOM_STATE)\n",
    "res_lr_base = evaluate_on_valid(build_pipeline(lr_base), X_train, y_train, X_valid, y_valid)\n",
    "res_lr_base.update({\"strategy\": \"base\", \"model\": \"LogisticRegression\", \"params\": {\"C\": 1.0}})\n",
    "base_results.append(res_lr_base)\n",
    "\n",
    "# Random Forest (baseline)\n",
    "rf_base = RandomForestClassifier(\n",
    "    n_estimators=200, max_depth=None, min_samples_split=2, min_samples_leaf=1,\n",
    "    max_features=\"sqrt\", random_state=RANDOM_STATE, n_jobs=-1\n",
    ")\n",
    "res_rf_base = evaluate_on_valid(build_pipeline(rf_base), X_train, y_train, X_valid, y_valid)\n",
    "res_rf_base.update({\"strategy\": \"base\", \"model\": \"RandomForest\", \"params\": {\"n_estimators\": 200}})\n",
    "base_results.append(res_rf_base)"
   ]
  },
  {
   "cell_type": "markdown",
   "metadata": {},
   "source": [
    "**Se encontró que:**\n",
    "1. *Modelo de Regresión Logística.*\n",
    "- Umbral=0.200*: Significa que, para maximizar F1 en validación, el mejor corte no fue el típico 0.5, sino un umbral mucho más bajo (0.20). Esto indica clase minoritaria (clientes que se van = 1) muy pequeña, y el modelo necesita “ser más sensible” para detectar más positivos.\n",
    "\n",
    "- F1(valid)=0.4828: Está por debajo del mínimo requerido (0.59), es decir, Logistic Regression solo no es suficiente en este dataset si no tratamos el desbalance.\n",
    "\n",
    "- AUC=0.7561:Muestra que el modelo sí logra separar bien las clases en términos de probabilidad, aunque falla en encontrar el umbral correcto (problema típico de desbalance).\n",
    "\n",
    "2. *Modelo de Bosque Aleatorio*\n",
    "- Umbral=0.360*: Mejor umbral más cercano a 0.5, el bosque ya maneja mejor el desbalance de forma natural.\n",
    "- F1=0.6369: Este ya supera el umbral mínimo de 0.59. \n",
    "- AUC=0.8520: Indica que el modelo tiene alta capacidad discriminativa."
   ]
  },
  {
   "cell_type": "markdown",
   "metadata": {},
   "source": [
    "# 5. Corrección del Desbalance"
   ]
  },
  {
   "cell_type": "code",
   "execution_count": 12,
   "metadata": {},
   "outputs": [
    {
     "name": "stdout",
     "output_type": "stream",
     "text": [
      "\n",
      "--- Estrategia: class_weight ---\n",
      "Umbral*=0.460 | F1(valid)=0.4870 | AUC(valid)=0.7607\n",
      "Umbral*=0.460 | F1(valid)=0.4870 | AUC(valid)=0.7607\n",
      "Umbral*=0.460 | F1(valid)=0.4866 | AUC(valid)=0.7607\n",
      "Umbral*=0.460 | F1(valid)=0.4866 | AUC(valid)=0.7607\n",
      "Umbral*=0.580 | F1(valid)=0.6208 | AUC(valid)=0.8484\n",
      "Umbral*=0.490 | F1(valid)=0.6441 | AUC(valid)=0.8586\n",
      "Umbral*=0.380 | F1(valid)=0.6399 | AUC(valid)=0.8541\n",
      "Umbral*=0.490 | F1(valid)=0.6505 | AUC(valid)=0.8598\n",
      "\n",
      "Balance de clases en TRAIN (UPSAMPLED):\n"
     ]
    },
    {
     "data": {
      "text/html": [
       "<div>\n",
       "<style scoped>\n",
       "    .dataframe tbody tr th:only-of-type {\n",
       "        vertical-align: middle;\n",
       "    }\n",
       "\n",
       "    .dataframe tbody tr th {\n",
       "        vertical-align: top;\n",
       "    }\n",
       "\n",
       "    .dataframe thead th {\n",
       "        text-align: right;\n",
       "    }\n",
       "</style>\n",
       "<table border=\"1\" class=\"dataframe\">\n",
       "  <thead>\n",
       "    <tr style=\"text-align: right;\">\n",
       "      <th></th>\n",
       "      <th>count</th>\n",
       "      <th>rate</th>\n",
       "    </tr>\n",
       "  </thead>\n",
       "  <tbody>\n",
       "    <tr>\n",
       "      <th>0</th>\n",
       "      <td>4777</td>\n",
       "      <td>0.5</td>\n",
       "    </tr>\n",
       "    <tr>\n",
       "      <th>1</th>\n",
       "      <td>4777</td>\n",
       "      <td>0.5</td>\n",
       "    </tr>\n",
       "  </tbody>\n",
       "</table>\n",
       "</div>"
      ],
      "text/plain": [
       "   count  rate\n",
       "0   4777   0.5\n",
       "1   4777   0.5"
      ]
     },
     "metadata": {},
     "output_type": "display_data"
    },
    {
     "name": "stdout",
     "output_type": "stream",
     "text": [
      "\n",
      "--- Estrategia: upsampling ---\n",
      "Umbral*=0.600 | F1(valid)=0.4926 | AUC(valid)=0.7621\n",
      "Umbral*=0.600 | F1(valid)=0.4943 | AUC(valid)=0.7621\n",
      "Umbral*=0.600 | F1(valid)=0.4943 | AUC(valid)=0.7621\n",
      "Umbral*=0.600 | F1(valid)=0.4943 | AUC(valid)=0.7621\n",
      "Umbral*=0.550 | F1(valid)=0.6198 | AUC(valid)=0.8477\n",
      "Umbral*=0.540 | F1(valid)=0.6398 | AUC(valid)=0.8573\n",
      "Umbral*=0.450 | F1(valid)=0.6234 | AUC(valid)=0.8482\n",
      "Umbral*=0.530 | F1(valid)=0.6361 | AUC(valid)=0.8570\n",
      "\n",
      "Balance de clases en TRAIN (DOWNSAMPLED):\n"
     ]
    },
    {
     "data": {
      "text/html": [
       "<div>\n",
       "<style scoped>\n",
       "    .dataframe tbody tr th:only-of-type {\n",
       "        vertical-align: middle;\n",
       "    }\n",
       "\n",
       "    .dataframe tbody tr th {\n",
       "        vertical-align: top;\n",
       "    }\n",
       "\n",
       "    .dataframe thead th {\n",
       "        text-align: right;\n",
       "    }\n",
       "</style>\n",
       "<table border=\"1\" class=\"dataframe\">\n",
       "  <thead>\n",
       "    <tr style=\"text-align: right;\">\n",
       "      <th></th>\n",
       "      <th>count</th>\n",
       "      <th>rate</th>\n",
       "    </tr>\n",
       "  </thead>\n",
       "  <tbody>\n",
       "    <tr>\n",
       "      <th>0</th>\n",
       "      <td>1223</td>\n",
       "      <td>0.5</td>\n",
       "    </tr>\n",
       "    <tr>\n",
       "      <th>1</th>\n",
       "      <td>1223</td>\n",
       "      <td>0.5</td>\n",
       "    </tr>\n",
       "  </tbody>\n",
       "</table>\n",
       "</div>"
      ],
      "text/plain": [
       "   count  rate\n",
       "0   1223   0.5\n",
       "1   1223   0.5"
      ]
     },
     "metadata": {},
     "output_type": "display_data"
    },
    {
     "name": "stdout",
     "output_type": "stream",
     "text": [
      "\n",
      "--- Estrategia: downsampling ---\n",
      "Umbral*=0.550 | F1(valid)=0.4827 | AUC(valid)=0.7596\n",
      "Umbral*=0.500 | F1(valid)=0.4835 | AUC(valid)=0.7596\n",
      "Umbral*=0.500 | F1(valid)=0.4839 | AUC(valid)=0.7597\n",
      "Umbral*=0.500 | F1(valid)=0.4839 | AUC(valid)=0.7597\n",
      "Umbral*=0.590 | F1(valid)=0.6148 | AUC(valid)=0.8456\n",
      "Umbral*=0.590 | F1(valid)=0.6387 | AUC(valid)=0.8556\n",
      "Umbral*=0.630 | F1(valid)=0.6343 | AUC(valid)=0.8526\n",
      "Umbral*=0.590 | F1(valid)=0.6396 | AUC(valid)=0.8551\n"
     ]
    }
   ],
   "source": [
    "\n",
    "all_results = base_results.copy()\n",
    "\n",
    "lr_grid = [{\"C\": c} for c in [0.5, 1.0, 2.0, 3.0]]\n",
    "rf_grid = [\n",
    "    {\"n_estimators\": 200, \"max_depth\": 6},\n",
    "    {\"n_estimators\": 300, \"max_depth\": 10},\n",
    "    {\"n_estimators\": 300, \"max_depth\": None},\n",
    "    {\"n_estimators\": 400, \"max_depth\": 10},\n",
    "]\n",
    "\n",
    "def try_strategy(X_tr, y_tr, X_va, y_va, strategy_name, use_class_weight=False):\n",
    "    print(f\"\\n--- Estrategia: {strategy_name} ---\")\n",
    "    results = []\n",
    "\n",
    "    # Logistic Regression\n",
    "    for g in lr_grid:\n",
    "        lr = LogisticRegression(\n",
    "            C=g[\"C\"], solver=\"lbfgs\", max_iter=2000, random_state=RANDOM_STATE,\n",
    "            class_weight=(\"balanced\" if use_class_weight else None)\n",
    "        )\n",
    "        r = evaluate_on_valid(build_pipeline(lr), X_tr, y_tr, X_va, y_va)\n",
    "        r.update({\"strategy\": strategy_name, \"model\": \"LogisticRegression\",\n",
    "                  \"params\": {\"C\": g[\"C\"], \"class_weight\": (\"balanced\" if use_class_weight else None)}})\n",
    "        results.append(r)\n",
    "\n",
    "    # Random Forest\n",
    "    for g in rf_grid:\n",
    "        rf = RandomForestClassifier(\n",
    "            n_estimators=g[\"n_estimators\"], max_depth=g[\"max_depth\"],\n",
    "            min_samples_split=2, min_samples_leaf=1, max_features=\"sqrt\",\n",
    "            random_state=RANDOM_STATE, n_jobs=-1,\n",
    "            class_weight=(\"balanced\" if use_class_weight else None)\n",
    "        )\n",
    "        r = evaluate_on_valid(build_pipeline(rf), X_tr, y_tr, X_va, y_va)\n",
    "        r.update({\"strategy\": strategy_name, \"model\": \"RandomForest\",\n",
    "                  \"params\": {**g, \"class_weight\": (\"balanced\" if use_class_weight else None)}})\n",
    "        results.append(r)\n",
    "\n",
    "    return results\n",
    "\n",
    "# A) class_weight\n",
    "results_A = try_strategy(X_train, y_train, X_valid, y_valid, \"class_weight\", use_class_weight=True)\n",
    "all_results.extend(results_A)\n",
    "\n",
    "# B) Upsampling\n",
    "X_train_up, y_train_up = upsample_train(X_train, y_train, ratio=1.0, random_state=RANDOM_STATE)\n",
    "describe_balance(\"TRAIN (UPSAMPLED)\", y_train_up)\n",
    "results_B = try_strategy(X_train_up, y_train_up, X_valid, y_valid, \"upsampling\", use_class_weight=False)\n",
    "all_results.extend(results_B)\n",
    "\n",
    "# C) Downsampling\n",
    "X_train_down, y_train_down = downsample_train(X_train, y_train, ratio=1.0, random_state=RANDOM_STATE)\n",
    "describe_balance(\"TRAIN (DOWNSAMPLED)\", y_train_down)\n",
    "results_C = try_strategy(X_train_down, y_train_down, X_valid, y_valid, \"downsampling\", use_class_weight=False)\n",
    "all_results.extend(results_C)\n"
   ]
  },
  {
   "cell_type": "markdown",
   "metadata": {},
   "source": [
    "**Se encontró:**\n",
    "- El mejor modelo en rendimiento fue eRandomForest + class_weight='balanced'con F1=0.6505 y AUC=0.8598 en validación."
   ]
  },
  {
   "cell_type": "markdown",
   "metadata": {},
   "source": [
    "### 6. Entrenamiento final"
   ]
  },
  {
   "cell_type": "code",
   "execution_count": 13,
   "metadata": {},
   "outputs": [
    {
     "name": "stdout",
     "output_type": "stream",
     "text": [
      ">> Mejor en VALID para RF + class_weight='balanced':\n",
      "   params: {'n_estimators': 400, 'max_depth': 10}\n",
      "   threshold*=0.490 | F1(valid)=0.6505 | AUC(valid)=0.8598\n",
      "\n",
      "===== RESULTADOS FINALES EN TEST =====\n",
      "F1 (test):  0.6250\n",
      "AUC-ROC:    0.8610\n",
      "Umbral usado (de VALID): 0.490\n",
      "\n",
      "Matriz de confusión (test):\n",
      "[[1417  176]\n",
      " [ 142  265]]\n",
      "\n",
      "Reporte de clasificación (test):\n",
      "              precision    recall  f1-score   support\n",
      "\n",
      "           0     0.9089    0.8895    0.8991      1593\n",
      "           1     0.6009    0.6511    0.6250       407\n",
      "\n",
      "    accuracy                         0.8410      2000\n",
      "   macro avg     0.7549    0.7703    0.7621      2000\n",
      "weighted avg     0.8462    0.8410    0.8433      2000\n",
      "\n"
     ]
    }
   ],
   "source": [
    "\n",
    "rf_grid = [\n",
    "    {\"n_estimators\": 200, \"max_depth\": 6},\n",
    "    {\"n_estimators\": 300, \"max_depth\": 10},\n",
    "    {\"n_estimators\": 300, \"max_depth\": None},\n",
    "    {\"n_estimators\": 400, \"max_depth\": 10},\n",
    "]\n",
    "\n",
    "# 1) Re-evaluar en VALID para recuperar mejores hiperparámetros y umbral óptimo\n",
    "best = None\n",
    "for g in rf_grid:\n",
    "    rf = RandomForestClassifier(\n",
    "        n_estimators=g[\"n_estimators\"], max_depth=g[\"max_depth\"],\n",
    "        min_samples_split=2, min_samples_leaf=1, max_features=\"sqrt\",\n",
    "        random_state=RANDOM_STATE, n_jobs=-1,\n",
    "        class_weight=\"balanced\"\n",
    "    )\n",
    "    res = evaluate_on_valid(build_pipeline(rf), X_train, y_train, X_valid, y_valid, verbose=False)\n",
    "    res.update({\"params\": g})\n",
    "    if (best is None) or (res[\"f1_valid\"] > best[\"f1_valid\"]):\n",
    "        best = res\n",
    "\n",
    "print(\">> Mejor en VALID para RF + class_weight='balanced':\")\n",
    "print(\"   params:\", best[\"params\"])\n",
    "print(f\"   threshold*={best['threshold']:.3f} | F1(valid)={best['f1_valid']:.4f} | AUC(valid)={best['auc_valid']:.4f}\")\n",
    "\n",
    "best_params = best[\"params\"]\n",
    "best_threshold = float(best[\"threshold\"])\n",
    "\n",
    "# 2) Reentrenar en TRAIN+VALID aplicando la misma estrategia (class_weight='balanced')\n",
    "X_train_full = pd.concat([X_train, X_valid], axis=0)\n",
    "y_train_full = pd.concat([y_train, y_valid], axis=0)\n",
    "\n",
    "final_rf = RandomForestClassifier(\n",
    "    n_estimators=best_params[\"n_estimators\"], max_depth=best_params[\"max_depth\"],\n",
    "    min_samples_split=2, min_samples_leaf=1, max_features=\"sqrt\",\n",
    "    random_state=RANDOM_STATE, n_jobs=-1,\n",
    "    class_weight=\"balanced\"\n",
    ")\n",
    "\n",
    "final_pipe = build_pipeline(final_rf)\n",
    "final_pipe.fit(X_train_full, y_train_full)\n",
    "\n",
    "# 3) Evaluación en TEST usando el mismo umbral óptimo de VALID\n",
    "y_proba_test = final_pipe.predict_proba(X_test)[:, 1]\n",
    "y_pred_test = (y_proba_test >= best_threshold).astype(int)\n",
    "\n",
    "f1_test = f1_score(y_test, y_pred_test)\n",
    "auc_test = roc_auc_score(y_test, y_proba_test)\n",
    "\n",
    "print(\"\\n===== RESULTADOS FINALES EN TEST =====\")\n",
    "print(f\"F1 (test):  {f1_test:.4f}\")\n",
    "print(f\"AUC-ROC:    {auc_test:.4f}\")\n",
    "print(f\"Umbral usado (de VALID): {best_threshold:.3f}\")\n",
    "\n",
    "print(\"\\nMatriz de confusión (test):\")\n",
    "print(confusion_matrix(y_test, y_pred_test))\n",
    "\n",
    "print(\"\\nReporte de clasificación (test):\")\n",
    "print(classification_report(y_test, y_pred_test, digits=4))\n"
   ]
  },
  {
   "cell_type": "markdown",
   "metadata": {},
   "source": [
    "**Mejor modelo:**\n",
    "\n",
    "*Algoritmo:* Random Forest\n",
    "*Estrategia de desbalance:* class_weight='balanced'\n",
    "\n",
    "*Hiperparámetros:+ n_estimators=400, max_depth=10\n",
    "\n",
    "*Umbral óptimo (VALID):* 0.49\n",
    "\n",
    "*Métricas VALID:* F1=0.6250, AUC=0.85\n",
    "\n",
    "**Implicaciones:**\n",
    "- El modelo equilibra bien entre precisión y recall para la clase minoritaria (clientes que abandonan el banco). \n",
    "- El recall del 65% significa que el banco logrará identificar ~2 de cada 3 clientes en riesgo de irse.\n",
    "- El precision del 60% implica que de cada 10 clientes que el modelo marca como “se va”, 6 realmente se irán.\n",
    "- El AUC=0.86 confirma que el modelo separa bien a ambas clases: está muy por encima de un modelo aleatorio (0.5)."
   ]
  },
  {
   "cell_type": "code",
   "execution_count": 14,
   "metadata": {},
   "outputs": [
    {
     "data": {
      "image/png": "[encoded data removed]",
      "text/plain": [
       "<Figure size 600x500 with 1 Axes>"
      ]
     },
     "metadata": {},
     "output_type": "display_data"
    }
   ],
   "source": [
    "from sklearn.metrics import roc_curve, auc\n",
    "\n",
    "# Calcular FPR, TPR y umbrales\n",
    "fpr, tpr, thresholds = roc_curve(y_test, y_proba_test)\n",
    "roc_auc = auc(fpr, tpr)\n",
    "\n",
    "# Graficar\n",
    "plt.figure(figsize=(6,5))\n",
    "plt.plot(fpr, tpr, color=\"darkorange\", lw=2, label=f\"AUC = {roc_auc:.3f}\")\n",
    "plt.plot([0, 1], [0, 1], color=\"navy\", lw=2, linestyle=\"--\", label=\"Modelo aleatorio\")\n",
    "plt.xlim([0.0, 1.0])\n",
    "plt.ylim([0.0, 1.05])\n",
    "plt.xlabel(\"Tasa de falsos positivos (FPR)\")\n",
    "plt.ylabel(\"Tasa de verdaderos positivos (TPR)\")\n",
    "plt.title(\"Curva ROC - Conjunto de prueba\")\n",
    "plt.legend(loc=\"lower right\")\n",
    "plt.grid(alpha=0.3)\n",
    "plt.show()"
   ]
  },
  {
   "cell_type": "markdown",
   "metadata": {},
   "source": [
    "### CONCLUSIÓN:\n",
    "\n",
    "Tras la preparación de los datos y la división estratificada en conjuntos de entrenamiento, validación y prueba (60/20/20), se evaluaron inicialmente modelos de regresión logística y bosque aleatorio sin aplicar correcciones al desbalance de clases. Los resultados mostraron que la regresión logística presentó un desempeño limitado (F1≈0.48), mientras que el bosque aleatorio alcanzó un F1 de 0.63 y un AUC-ROC de 0.85 en validación, superando el umbral mínimo exigido de 0.59.\n",
    "\n",
    "Posteriormente, se implementaron tres estrategias para mitigar el desbalance: ponderación de clases (class_weight='balanced'), sobremuestreo (upsampling) y submuestreo (downsampling). En todos los casos, los modelos de regresión logística mantuvieron un bajo rendimiento, mientras que los bosques aleatorios mostraron mejoras consistentes. La mejor configuración se obtuvo con Random Forest y class_weight='balanced', con 400 árboles y profundidad máxima de 10, alcanzando en validación un F1=0.6505 y AUC=0.8598.\n",
    "\n",
    "Al aplicar este modelo final al conjunto de prueba, los resultados fueron satisfactorios: F1=0.625, AUC-ROC=0.861 y una exactitud global del 84%. En particular, se logró identificar correctamente al 65% de los clientes que abandonan el banco (recall), con una precisión del 60% en esta clase. Estos valores evidencian un equilibrio aceptable entre la identificación de clientes en riesgo y el control de falsos positivos, lo cual resulta fundamental para la toma de decisiones estratégicas en retención de clientes.\n",
    "\n",
    "En conclusión, el modelo implementado no solo cumplió con el requisito mínimo de desempeño, sino que también demostró una capacidad robusta para discriminar entre clientes que permanecen y aquellos que abandonan la entidad. Esto confirma la utilidad del enfoque basado en bosques aleatorios con corrección de desbalance mediante ponderación de clases como herramienta predictiva aplicable en contextos reales de gestión bancaria."
   ]
  },
  {
   "cell_type": "code",
   "execution_count": null,
   "metadata": {},
   "outputs": [],
   "source": []
  }
 ],
 "metadata": {
  "kernelspec": {
   "display_name": "Python 3 (ipykernel)",
   "language": "python",
   "name": "python3"
  },
  "language_info": {
   "codemirror_mode": {
    "name": "ipython",
    "version": 3
   },
   "file_extension": ".py",
   "mimetype": "text/x-python",
   "name": "python",
   "nbconvert_exporter": "python",
   "pygments_lexer": "ipython3",
   "version": "3.9.23"
  }
 },
 "nbformat": 4,
 "nbformat_minor": 4
}
